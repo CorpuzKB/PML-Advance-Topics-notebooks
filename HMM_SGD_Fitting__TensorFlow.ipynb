{
  "nbformat": 4,
  "nbformat_minor": 0,
  "metadata": {
    "colab": {
      "provenance": [],
      "collapsed_sections": [
        "AkIf_e64Qzse",
        "9KZyA4RYRRTj",
        "sXtfQVwGRbWK",
        "8PuN74Q7SXHr",
        "GZ01u7BxSfL8"
      ],
      "authorship_tag": "ABX9TyMjYb8GqRQVSlAKabPNu98i",
      "include_colab_link": true
    },
    "kernelspec": {
      "name": "python3",
      "display_name": "Python 3"
    },
    "language_info": {
      "name": "python"
    },
    "gpuClass": "standard"
  },
  "cells": [
    {
      "cell_type": "markdown",
      "metadata": {
        "id": "view-in-github",
        "colab_type": "text"
      },
      "source": [
        "<a href=\"https://colab.research.google.com/github/CorpuzKB/PML-Advance-Topics-notebooks/blob/main/HMM_SGD_Fitting__TensorFlow.ipynb\" target=\"_parent\"><img src=\"https://colab.research.google.com/assets/colab-badge.svg\" alt=\"Open In Colab\"/></a>"
      ]
    },
    {
      "cell_type": "markdown",
      "source": [
        "# Fitting an HMM using Stochastic Gradient Descent\n",
        "\n",
        "The parameters $\\boldsymbol\\theta=(A, B, \\pi)$ of an HMM are fitted by maximizing the log-likelihood:\n",
        "<br><br>\n",
        "\\begin{align*}\n",
        "\\log \\Pr(\\mathbf y_{1}\\cdots, \\mathbf y_N|\\boldsymbol \\theta) = \\sum_{n=1}^N\\log \\Pr(\\mathbf y_n|\\mathbf y_{1}\\cdots \\mathbf y_{n-1}, \\boldsymbol \\theta)\n",
        "\\end{align*}\n",
        "<br><br>\n",
        "This is simply the normalizing constant used in the Forwards step of an HMM state inference (see [HMM Inference](https://colab.research.google.com/drive/12JfQRmJOgHXOE1j-gXjfSDHlODpp3RVE?usp=sharing)). Since for every filtered posterior from $1\\cdots N$:\n",
        "<br><br>\n",
        "\\begin{align*}\n",
        "\\boldsymbol\\alpha_t&= \\Pr(\\mathbf z_t|\\mathbf y_{1}\\cdots \\mathbf y_{t}, \\boldsymbol\\theta\\\\\n",
        "&=\\frac{\\Pr(\\mathbf z_t, \\mathbf y_{1}\\cdots \\mathbf y_{t}|\\boldsymbol\\theta)}{\\Pr(\\mathbf y_n|\\mathbf y_{1}\\cdots \\mathbf y_{n-1}, \\boldsymbol \\theta)}\n",
        "\\end{align*}"
      ],
      "metadata": {
        "id": "dbDG8Sc0QYV2"
      }
    },
    {
      "cell_type": "code",
      "execution_count": 1,
      "metadata": {
        "id": "Xu5F4lV28Vwi"
      },
      "outputs": [],
      "source": [
        "import numpy as np\n",
        "import tensorflow as tf\n",
        "import tensorflow_probability as tfp\n",
        "import matplotlib.pyplot as plt\n",
        "import seaborn as sns\n",
        "from IPython.display import set_matplotlib_formats\n",
        "\n",
        "tfd = tfp.distributions\n",
        "sns.set(rc={\"figure.dpi\":80, 'savefig.dpi':300})\n",
        "sns.set_context('notebook')\n",
        "sns.set_style(\"ticks\")\n",
        "set_matplotlib_formats('retina')"
      ]
    },
    {
      "cell_type": "markdown",
      "source": [
        "## HMM Inference TensorFlow Module"
      ],
      "metadata": {
        "id": "AkIf_e64Qzse"
      }
    },
    {
      "cell_type": "code",
      "source": [
        "class HMM_Inference_TFM(tf.Module):\n",
        "  def __init__(self, transition_matrix, emission_distribution, emission_params, states_probs_0, **kwargs):\n",
        "    super().__init__(**kwargs)\n",
        "    constrain_positive = tfp.bijectors.Shift(np.finfo(np.float64).tiny)(tfp.bijectors.Exp())\n",
        "    self.transition_matrix = tfp.util.TransformedVariable(transition_matrix, bijector=constrain_positive, dtype=tf.float64, name='transition_matrix')\n",
        "    self.emission_distribution = emission_distribution\n",
        "    self.emission_params = tfp.util.TransformedVariable(emission_params, bijector=constrain_positive, dtype=tf.float64, name='emission_params')\n",
        "    self.states_probs_0 = tfp.util.TransformedVariable(states_probs_0, bijector=constrain_positive, dtype=tf.float64, name='states_probs_0')\n",
        "    self.num_states = self.transition_matrix.shape[0]\n",
        "\n",
        "  def __call__(self, observations):\n",
        "    self.update(observations)\n",
        "    return self.Forward(observations)\n",
        "    \n",
        "  def update(self, observations):\n",
        "    self.batch_dims = observations.shape[0]\n",
        "    self.num_steps = observations.shape[1]\n",
        "    self.transition_matrix.assign(self.transition_matrix / self.normalizing_constant(self.transition_matrix, -1))\n",
        "    self.emission_params.assign(self.emission_params / self.normalizing_constant(self.emission_params, -1))\n",
        "    self.states_probs_0.assign(self.states_probs_0 / self.normalizing_constant(self.states_probs_0, -2))\n",
        "\n",
        "  @tf.function\n",
        "  def normalizing_constant(self, x, dim):\n",
        "    return tf.reduce_sum(x, dim, keepdims=True)\n",
        "\n",
        "  @tf.function\n",
        "  def Forward_step(self, a_t, i):\n",
        "    a_t = self.local_evidence[:, i] * (tf.transpose(self.transition_matrix) @ a_t)\n",
        "    Z_t = self.normalizing_constant(a_t, -2)\n",
        "    a_t = a_t / Z_t\n",
        "    return a_t, Z_t\n",
        "\n",
        "  def Forward(self, observations):\n",
        "    self.emission_model = self.emission_distribution(self.emission_params)\n",
        "    self.local_evidence = tf.exp(self.emission_model.log_prob(observations[..., tf.newaxis]))[..., tf.newaxis]\n",
        "    a_t = self.states_probs_0 * self.local_evidence[:, 0]\n",
        "    Z = self.normalizing_constant(a_t, -2)\n",
        "    a = a_t / Z\n",
        "    for i in range(1, self.num_steps):\n",
        "      a_t, Z_t = self.Forward_step(a_t, tf.constant(i))\n",
        "      Z = tf.concat([Z, Z_t], 1)\n",
        "      a = tf.concat([a, a_t], 2)\n",
        "    return tf.transpose(a, [0, 2, 1])[..., tf.newaxis], Z"
      ],
      "metadata": {
        "id": "JJ4Wl5xOAtEq"
      },
      "execution_count": 78,
      "outputs": []
    },
    {
      "cell_type": "markdown",
      "source": [
        "## SGD Loss Function and Training Routine"
      ],
      "metadata": {
        "id": "9KZyA4RYRRTj"
      }
    },
    {
      "cell_type": "code",
      "source": [
        "def HMM_Negative_Log_Likelihood(HMM_Forward):\n",
        "  _, Z = HMM_Forward\n",
        "  return -tf.reduce_sum(tf.math.log(Z))\n",
        "\n",
        "def HMM_SGD(inference_module, observations, optimizer, iterations=1):\n",
        "  for i in range(iterations):\n",
        "    with tf.GradientTape() as tape:\n",
        "      HMM_NLL = HMM_Negative_Log_Likelihood(inference_module(observations))\n",
        "    grads = tape.gradient(HMM_NLL, inference_module.trainable_variables)\n",
        "    optimizer.apply_gradients(zip(grads, inference_module.trainable_variables))\n",
        "    tf.print(\"Iteration {}:\\tNLL = {}\".format(i, HMM_NLL))"
      ],
      "metadata": {
        "id": "1iXZawks5uZe"
      },
      "execution_count": 21,
      "outputs": []
    },
    {
      "cell_type": "markdown",
      "source": [
        "## HMM Observations Generator Function"
      ],
      "metadata": {
        "id": "sXtfQVwGRbWK"
      }
    },
    {
      "cell_type": "code",
      "source": [
        "def HMM_Generator(transition_matrix, emission_distribution, emission_params, states_probs_0, steps, batch_dims=1):\n",
        "  state_t = tfd.Categorical(probs=tf.squeeze(states_probs_0)).sample([batch_dims, 1])\n",
        "  transition_distribution = tfd.Categorical(probs=transition_matrix).sample([batch_dims, steps])\n",
        "  observation_distribution = emission_distribution(emission_params).sample([batch_dims, steps])\n",
        "  for i in range(steps):\n",
        "    state_t = tf.gather_nd(transition_distribution[:, i], state_t, 1)[:, tf.newaxis]\n",
        "    obs_t = tf.gather_nd(observation_distribution[:, i], state_t, 1)[:, tf.newaxis]\n",
        "    if i == 0: \n",
        "      state = state_t\n",
        "      obs = obs_t\n",
        "    else: \n",
        "      state = tf.concat([state, state_t], 1)\n",
        "      obs = tf.concat([obs, obs_t], 1)\n",
        "  return state, obs"
      ],
      "metadata": {
        "id": "x0Ruxq2M-weH"
      },
      "execution_count": 2,
      "outputs": []
    },
    {
      "cell_type": "markdown",
      "source": [
        "## Example 1. Casino HMM Parameter Learning Using SGD"
      ],
      "metadata": {
        "id": "FnV056U-Rl_0"
      }
    },
    {
      "cell_type": "markdown",
      "source": [
        "### Set the ground-truth parameters $(A_g, B_g, \\pi_g)$"
      ],
      "metadata": {
        "id": "8PuN74Q7SXHr"
      }
    },
    {
      "cell_type": "code",
      "source": [
        "num_states = 2\n",
        "\n",
        "states_probs_0 = tf.constant([\n",
        "    [0.5],\n",
        "    [0.5]\n",
        "])\n",
        "\n",
        "transition_matrix = tf.constant([\n",
        "    [0.95, 0.05], \n",
        "    [0.1, 0.9]\n",
        "])\n",
        "\n",
        "emission_params = tf.stack([\n",
        "    tf.squeeze(tf.constant(tf.fill([1, 6], 1/6))),\n",
        "    tf.constant([*[1/10 for _ in range(5)], 5/10])\n",
        "    ])\n",
        "\n",
        "emission_distribution = lambda arg: tfd.Categorical(probs=arg)\n",
        "\n",
        "fig, axes = plt.subplots(1, 2, figsize=(10, 5))\n",
        "sns.heatmap(transition_matrix, annot=True, linewidth=.5, ax=axes[0], cbar=False)\n",
        "sns.heatmap(emission_params, annot=True, linewidth=.5, ax=axes[1], cbar=False)\n",
        "axes[0].set(xlabel='$z_{t}$', ylabel='$z_{t-1}$', title='Transition Matrix')\n",
        "axes[1].set(xlabel='$\\Pr(y|z)$', ylabel='$z$', title='Observation Distribution')\n",
        "plt.show()"
      ],
      "metadata": {
        "colab": {
          "base_uri": "https://localhost:8080/",
          "height": 394
        },
        "id": "2zmSzH759Qmv",
        "outputId": "e4b22d38-ffed-46e6-aeac-cbd2a312046d"
      },
      "execution_count": 3,
      "outputs": [
        {
          "output_type": "display_data",
          "data": {
            "text/plain": [
              "<Figure size 800x400 with 2 Axes>"
            ],
            "image/png": "[encoded data removed]"
          },
          "metadata": {
            "image/png": {
              "width": 675,
              "height": 377
            }
          }
        }
      ]
    },
    {
      "cell_type": "markdown",
      "source": [
        "### Generate Sample Data"
      ],
      "metadata": {
        "id": "GZ01u7BxSfL8"
      }
    },
    {
      "cell_type": "code",
      "source": [
        "num_batches = 5\n",
        "num_steps = 5000\n",
        "true_states, observations = HMM_Generator(transition_matrix, emission_distribution, emission_params, states_probs_0, num_steps, num_batches)\n",
        "print('Generated {} batches of {}-step Casino HMM samples'.format(num_batches, num_steps), '\\n')"
      ],
      "metadata": {
        "colab": {
          "base_uri": "https://localhost:8080/"
        },
        "id": "l8jrHOfL-yf0",
        "outputId": "061646fd-a952-425f-a402-a3580497b625"
      },
      "execution_count": 85,
      "outputs": [
        {
          "output_type": "stream",
          "name": "stdout",
          "text": [
            "Generated 5 batches of 5000-step Casino HMM samples \n",
            "\n"
          ]
        }
      ]
    },
    {
      "cell_type": "markdown",
      "source": [
        "### Start the training routine"
      ],
      "metadata": {
        "id": "3bO5ojZNSjZC"
      }
    },
    {
      "cell_type": "code",
      "source": [
        "transition_matrix_init = [[0.5, 0.5], \n",
        "                          [0.5, 0.5]]\n",
        "\n",
        "emission_params_init = [[0.2, 0.2, 0.2, 0.2, 0.2, 0.2],\n",
        "                        [0.1, 0.2, 0.1, 0.2, 0.1, 0.3]]\n",
        "\n",
        "emission_distribution = lambda arg: tfd.Categorical(probs=arg)\n",
        "\n",
        "states_probs_0_init = [[0.5], \n",
        "                       [0.5]]\n",
        "\n",
        "inference_module = HMM_Inference_TFM(transition_matrix_init, emission_distribution, emission_params_init, states_probs_0_init)\n",
        "optimizer=tf.keras.optimizers.Adam(learning_rate=0.75)\n",
        "num_iter = 100\n",
        "HMM_SGD(inference_module, observations, optimizer, iterations=num_iter)\n"
      ],
      "metadata": {
        "id": "IACgFJvy_oKu",
        "colab": {
          "base_uri": "https://localhost:8080/"
        },
        "outputId": "4a1e128a-32c5-48b8-b093-28fa7bee37d1"
      },
      "execution_count": null,
      "outputs": [
        {
          "output_type": "stream",
          "name": "stdout",
          "text": [
            "Iteration 0:\tNLL = 44189.848599585705\n",
            "Iteration 1:\tNLL = 44189.43267643196\n",
            "Iteration 2:\tNLL = 44190.64456468078\n",
            "Iteration 3:\tNLL = 44191.90302485801\n",
            "Iteration 4:\tNLL = 44193.01833049285\n",
            "Iteration 5:\tNLL = 44193.98133350181\n",
            "Iteration 6:\tNLL = 44194.81064467973\n",
            "Iteration 7:\tNLL = 44195.52649059711\n",
            "Iteration 8:\tNLL = 44196.14616360218\n",
            "Iteration 9:\tNLL = 44196.68376088861\n",
            "Iteration 10:\tNLL = 44197.15072204148\n",
            "Iteration 11:\tNLL = 44197.556404955394\n",
            "Iteration 12:\tNLL = 44197.90855331331\n",
            "Iteration 13:\tNLL = 44198.21365065902\n",
            "Iteration 14:\tNLL = 44198.47718397404\n",
            "Iteration 15:\tNLL = 44198.7038400803\n",
            "Iteration 16:\tNLL = 44198.89765318304\n",
            "Iteration 17:\tNLL = 44199.06211690384\n",
            "Iteration 18:\tNLL = 44199.20027031364\n",
            "Iteration 19:\tNLL = 44199.31476470703\n",
            "Iteration 20:\tNLL = 44199.40791592485\n",
            "Iteration 21:\tNLL = 44199.48174569302\n",
            "Iteration 22:\tNLL = 44199.538014517704\n",
            "Iteration 23:\tNLL = 44199.57824805824\n",
            "Iteration 24:\tNLL = 44199.6037584944\n",
            "Iteration 25:\tNLL = 44199.615662187985\n",
            "Iteration 26:\tNLL = 44199.61489488231\n",
            "Iteration 27:\tNLL = 44199.6022257982\n",
            "Iteration 28:\tNLL = 44199.57827229345\n",
            "Iteration 29:\tNLL = 44199.5435172857\n",
            "Iteration 30:\tNLL = 44199.4983324267\n",
            "Iteration 31:\tNLL = 44199.44301102892\n",
            "Iteration 32:\tNLL = 44199.37781581124\n",
            "Iteration 33:\tNLL = 44199.30304716482\n",
            "Iteration 34:\tNLL = 44199.21913675699\n",
            "Iteration 35:\tNLL = 44199.126766960966\n",
            "Iteration 36:\tNLL = 44199.02700610472\n",
            "Iteration 37:\tNLL = 44198.92143070916\n",
            "Iteration 38:\tNLL = 44198.81218100109\n",
            "Iteration 39:\tNLL = 44198.701878031745\n",
            "Iteration 40:\tNLL = 44198.59334624832\n",
            "Iteration 41:\tNLL = 44198.48915950526\n",
            "Iteration 42:\tNLL = 44198.39114517046\n",
            "Iteration 43:\tNLL = 44198.300056096974\n",
            "Iteration 44:\tNLL = 44198.21556108339\n",
            "Iteration 45:\tNLL = 44198.13653184323\n",
            "Iteration 46:\tNLL = 44198.06146107892\n",
            "Iteration 47:\tNLL = 44197.98883549813\n",
            "Iteration 48:\tNLL = 44197.917372065065\n",
            "Iteration 49:\tNLL = 44197.84611257864\n",
            "Iteration 50:\tNLL = 44197.774416383094\n",
            "Iteration 51:\tNLL = 44197.70189918496\n",
            "Iteration 52:\tNLL = 44197.62835562678\n",
            "Iteration 53:\tNLL = 44197.55368785051\n",
            "Iteration 54:\tNLL = 44197.477849108254\n",
            "Iteration 55:\tNLL = 44197.400803155615\n",
            "Iteration 56:\tNLL = 44197.322496307854\n",
            "Iteration 57:\tNLL = 44197.24283808679\n",
            "Iteration 58:\tNLL = 44197.16168682127\n",
            "Iteration 59:\tNLL = 44197.078837405454\n",
            "Iteration 60:\tNLL = 44196.99400918986\n",
            "Iteration 61:\tNLL = 44196.906832513254\n",
            "Iteration 62:\tNLL = 44196.816832680706\n",
            "Iteration 63:\tNLL = 44196.7234102957\n"
          ]
        }
      ]
    },
    {
      "cell_type": "markdown",
      "source": [
        "### Results"
      ],
      "metadata": {
        "id": "nWKQUsRuS3LJ"
      }
    },
    {
      "cell_type": "code",
      "source": [
        "tf.print('True parameters\\n\\n{}\\n\\n{}\\n\\n{}'.format(transition_matrix, emission_params, states_probs_0), '\\n\\n')\n",
        "\n",
        "inference_module.update(observations)\n",
        "for params in inference_module.variables:\n",
        "  tf.print(tf.round(tf.exp(params)*1e9)/1e9)"
      ],
      "metadata": {
        "id": "PY_2LKcjS3en"
      },
      "execution_count": null,
      "outputs": []
    }
  ]
}