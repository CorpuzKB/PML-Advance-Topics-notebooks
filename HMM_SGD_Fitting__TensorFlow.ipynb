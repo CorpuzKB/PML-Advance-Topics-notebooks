{
  "cells": [
    {
      "cell_type": "markdown",
      "metadata": {
        "id": "view-in-github",
        "colab_type": "text"
      },
      "source": [
        "<a href=\"https://colab.research.google.com/github/CorpuzKB/PML-Advance-Topics-notebooks/blob/main/HMM_SGD_Fitting__TensorFlow.ipynb\" target=\"_parent\"><img src=\"https://colab.research.google.com/assets/colab-badge.svg\" alt=\"Open In Colab\"/></a>"
      ]
    },
    {
      "cell_type": "markdown",
      "metadata": {
        "id": "dbDG8Sc0QYV2"
      },
      "source": [
        "# Fitting an HMM using Stochastic Gradient Descent\n",
        "\n",
        "The parameters $\\boldsymbol\\theta=(A, B, \\pi)$ of an HMM are fitted by maximizing the log-likelihood:\n",
        "\\begin{align*}\n",
        "\\log \\Pr(\\mathbf y_{1}\\cdots, \\mathbf y_N|\\boldsymbol \\theta) = \\sum_{n=1}^N\\log \\Pr(\\mathbf y_n|\\mathbf y_{1}\\cdots \\mathbf y_{n-1}, \\boldsymbol \\theta)\n",
        "\\end{align*}\n",
        "\n",
        "This is simply the normalizing constant used in the Forwards step of an HMM state inference (see [HMM Inference](https://colab.research.google.com/drive/12JfQRmJOgHXOE1j-gXjfSDHlODpp3RVE?usp=sharing)). Since for every filtered posterior from $1\\cdots N$:\n",
        "\\begin{align*}\n",
        "\\boldsymbol\\alpha_t&= \\Pr(\\mathbf z_t|\\mathbf y_{1}\\cdots \\mathbf y_{t}, \\boldsymbol\\theta\\\\\n",
        "&=\\frac{\\Pr(\\mathbf z_t, \\mathbf y_{1}\\cdots \\mathbf y_{t}|\\boldsymbol\\theta)}{\\Pr(\\mathbf y_n|\\mathbf y_{1}\\cdots \\mathbf y_{n-1}, \\boldsymbol \\theta)}\n",
        "\\end{align*}"
      ]
    },
    {
      "cell_type": "code",
      "execution_count": 1,
      "metadata": {
        "id": "Xu5F4lV28Vwi"
      },
      "outputs": [],
      "source": [
        "import numpy as np\n",
        "import tensorflow as tf\n",
        "import tensorflow_probability as tfp\n",
        "import matplotlib.pyplot as plt\n",
        "import seaborn as sns\n",
        "from IPython.display import set_matplotlib_formats\n",
        "\n",
        "tfd = tfp.distributions\n",
        "sns.set(rc={\"figure.dpi\":80, 'savefig.dpi':300})\n",
        "sns.set_context('notebook')\n",
        "sns.set_style(\"ticks\")\n",
        "set_matplotlib_formats('retina')"
      ]
    },
    {
      "cell_type": "markdown",
      "metadata": {
        "id": "AkIf_e64Qzse"
      },
      "source": [
        "## HMM Inference TensorFlow Module"
      ]
    },
    {
      "cell_type": "code",
      "execution_count": 54,
      "metadata": {
        "id": "JJ4Wl5xOAtEq"
      },
      "outputs": [],
      "source": [
        "class HMM_Inference_TFM(tf.Module):\n",
        "  def __init__(self, transition_distribution, emission_distribution, emission_params, initial_distribution, transformation_layer, **kwargs):\n",
        "    super().__init__(**kwargs)\n",
        "    self.transition_distribution = tf.Variable(transition_distribution, dtype=tf.float32, name='transition_matrix')\n",
        "    self.emission_params = tf.Variable(emission_params, dtype=tf.float32, name='emission_params')\n",
        "    self.initial_distribution = tf.Variable(initial_distribution, dtype=tf.float32, name='initial_distribution')\n",
        "    self.emission_distribution = emission_distribution\n",
        "    self.transformation_layer = transformation_layer\n",
        "\n",
        "  def __call__(self, observations):\n",
        "    return self.Forward(*self.transformation_layer(\n",
        "        self.transition_distribution, \n",
        "        self.emission_distribution, \n",
        "        self.emission_params, \n",
        "        self.initial_distribution))\n",
        "\n",
        "  def normalizing_constant(self, x):\n",
        "    return tf.reduce_sum(x, -2, keepdims=True)\n",
        "\n",
        "  @tf.function\n",
        "  def Forward(self, transition_distribution, initial_distribution, local_evidence):\n",
        "    filtered_Z = tf.TensorArray(local_evidence.dtype, size=0, dynamic_size=True)\n",
        "    filtered_t = tf.broadcast_to(initial_distribution, local_evidence[:, 0].shape)\n",
        "    filtered_Z_t = self.normalizing_constant(filtered_t)\n",
        "    filtered_t = filtered_t / filtered_Z_t\n",
        "    for i in tf.range(num_steps):\n",
        "      filtered_t = local_evidence[:, i] * (tf.transpose(transition_distribution) @ filtered_t)\n",
        "      filtered_Z_t = self.normalizing_constant(filtered_t)\n",
        "      filtered_t = filtered_t / filtered_Z_t\n",
        "      filtered_Z = filtered_Z.write(i, filtered_Z_t)\n",
        "    return tf.transpose(filtered_Z.stack(), [1, 0, 2, 3])"
      ]
    },
    {
      "cell_type": "code",
      "source": [
        "class HMM_Categorical_Layer(tf.keras.layers.Layer):\n",
        "    def __init__(self):\n",
        "      super().__init__()\n",
        "\n",
        "    def call(self, transition_distribution, emission_distribution, emission_params, initial_distribution):\n",
        "      transition_distribution = tf.nn.softmax(transition_distribution)\n",
        "      emission_model = emission_distribution(tf.nn.softmax(emission_params))\n",
        "      local_evidence = tf.exp(emission_model.log_prob(observations))[..., tf.newaxis]\n",
        "      initial_distribution = tf.nn.softmax(initial_distribution, axis=0)\n",
        "      return transition_distribution, initial_distribution, local_evidence"
      ],
      "metadata": {
        "id": "eq-OtFoxu_W9"
      },
      "execution_count": 55,
      "outputs": []
    },
    {
      "cell_type": "markdown",
      "metadata": {
        "id": "9KZyA4RYRRTj"
      },
      "source": [
        "## SGD Loss Function and Training Routine"
      ]
    },
    {
      "cell_type": "code",
      "execution_count": 5,
      "metadata": {
        "id": "1iXZawks5uZe"
      },
      "outputs": [],
      "source": [
        "@tf.function\n",
        "def SGD_step(inference_module, inference_loss, observations):\n",
        "  with tf.GradientTape() as tape:\n",
        "    loss = inference_loss(inference_module, observations)\n",
        "  grads = tape.gradient(loss, inference_module.trainable_variables)\n",
        "  return grads, loss\n",
        "\n",
        "def HMM_Negative_Log_Likelihood(inference_module, observations):\n",
        "  return -tf.reduce_sum(tf.math.log(inference_module(observations)))\n",
        "\n",
        "def HMM_SGD(inference_module, inference_loss, observations, optimizer, iterations=1):\n",
        "  loss = []\n",
        "  for i in tf.range(iterations):\n",
        "    grads, HMM_NLL = SGD_step(inference_module, inference_loss, observations)\n",
        "    optimizer.apply_gradients(zip(grads, inference_module.trainable_variables))\n",
        "    loss.append(HMM_NLL)\n",
        "    tf.print(\"Iteration: \", i + 1, '\\tNLL = ', HMM_NLL)\n",
        "  return loss"
      ]
    },
    {
      "cell_type": "markdown",
      "metadata": {
        "id": "sXtfQVwGRbWK"
      },
      "source": [
        "## HMM Observations Generator"
      ]
    },
    {
      "cell_type": "code",
      "execution_count": 6,
      "metadata": {
        "id": "x0Ruxq2M-weH"
      },
      "outputs": [],
      "source": [
        "@tf.function\n",
        "def HMM_Generator(transition_matrix, emission_distribution, emission_params, states_probs_0, steps, batch_dims=1):\n",
        "  state_t = tfd.Categorical(probs=tf.squeeze(states_probs_0)).sample([batch_dims, 1])\n",
        "  transition_distribution = tfd.Categorical(probs=transition_matrix).sample([batch_dims, steps])\n",
        "  observation_distribution = emission_distribution(emission_params).sample([batch_dims, steps])\n",
        "  state = tf.TensorArray(state_t.dtype, size=0, dynamic_size=True)\n",
        "  obs = tf.TensorArray(observation_distribution.dtype, size=0, dynamic_size=True, clear_after_read=False)\n",
        "  for i in tf.range(steps):\n",
        "    state_t = tf.gather_nd(transition_distribution[:, i], state_t, 1)[:, tf.newaxis]\n",
        "    obs_t = tf.gather_nd(observation_distribution[:, i], state_t, 1)[:, tf.newaxis]\n",
        "    state = state.write(i, state_t)\n",
        "    obs = obs.write(i, obs_t)\n",
        "  return tf.transpose(state.stack(), [1, 0, 2]), tf.transpose(obs.stack(), [1, 0, 2])"
      ]
    },
    {
      "cell_type": "markdown",
      "metadata": {
        "id": "FnV056U-Rl_0"
      },
      "source": [
        "# Example 1. Casino HMM Parameter Learning Using SGD"
      ]
    },
    {
      "cell_type": "markdown",
      "metadata": {
        "id": "8PuN74Q7SXHr"
      },
      "source": [
        "### Set the ground-truth parameters $(A_g, B_g, \\pi_g)$"
      ]
    },
    {
      "cell_type": "code",
      "execution_count": 10,
      "metadata": {
        "colab": {
          "base_uri": "https://localhost:8080/",
          "height": 394
        },
        "id": "2zmSzH759Qmv",
        "outputId": "a6887915-902b-4d2f-81ea-fa1a73e5b55b"
      },
      "outputs": [
        {
          "output_type": "display_data",
          "data": {
            "text/plain": [
              "<Figure size 800x400 with 2 Axes>"
            ],
            "image/png": "[encoded data removed]"
          },
          "metadata": {
            "image/png": {
              "width": 678,
              "height": 377
            }
          }
        }
      ],
      "source": [
        "num_states = 2\n",
        "\n",
        "initial_distribution = tf.constant([\n",
        "    [0.5],\n",
        "    [0.5]\n",
        "])\n",
        "\n",
        "transition_distribution = tf.constant([\n",
        "    [0.95, 0.05], \n",
        "    [0.10, 0.90]\n",
        "])\n",
        "\n",
        "emission_params = tf.stack([\n",
        "    tf.squeeze(tf.constant(tf.fill([1, 6], 1/6))),\n",
        "    tf.constant([*[1/10 for _ in range(5)], 5/10])\n",
        "    ])\n",
        "\n",
        "emission_distribution = lambda arg: tfd.Categorical(probs=arg)\n",
        "\n",
        "fig, axes = plt.subplots(1, 2, figsize=(10, 5))\n",
        "sns.heatmap(transition_distribution, annot=True, linewidth=.5, ax=axes[0], cbar=False)\n",
        "sns.heatmap(emission_params, annot=True, linewidth=.5, ax=axes[1], cbar=False)\n",
        "axes[0].set(xlabel='$z_{t}$', ylabel='$\\Pr(z_{t}|z_{t-1})$', title='Transition Matrix')\n",
        "axes[1].set(xlabel='$\\Pr(y|z)$', ylabel='$z$', title='Observation Distribution'); plt.show()"
      ]
    },
    {
      "cell_type": "markdown",
      "metadata": {
        "id": "GZ01u7BxSfL8"
      },
      "source": [
        "### Generate Sample Data"
      ]
    },
    {
      "cell_type": "code",
      "execution_count": 39,
      "metadata": {
        "colab": {
          "base_uri": "https://localhost:8080/"
        },
        "id": "l8jrHOfL-yf0",
        "outputId": "e7f04c9f-4975-45c6-b45d-ad7b0740d573"
      },
      "outputs": [
        {
          "output_type": "stream",
          "name": "stdout",
          "text": [
            "Generated 10 batches of 5000-step Casino HMM samples \n",
            "\n"
          ]
        }
      ],
      "source": [
        "num_batches = 10\n",
        "num_steps = 5000\n",
        "true_states, observations = HMM_Generator(transition_distribution, emission_distribution, emission_params, initial_distribution, num_steps, num_batches)\n",
        "print('Generated {} batches of {}-step Casino HMM samples'.format(num_batches, num_steps), '\\n')"
      ]
    },
    {
      "cell_type": "markdown",
      "metadata": {
        "id": "3bO5ojZNSjZC"
      },
      "source": [
        "### Start the training routine"
      ]
    },
    {
      "cell_type": "code",
      "execution_count": 56,
      "metadata": {
        "id": "IACgFJvy_oKu",
        "colab": {
          "base_uri": "https://localhost:8080/"
        },
        "outputId": "8cb8bc7b-aaaf-47bd-b556-bc31b31392dd"
      },
      "outputs": [
        {
          "output_type": "stream",
          "name": "stdout",
          "text": [
            "Iteration:  1 \tNLL =  89743.6562\n",
            "Iteration:  2 \tNLL =  88698.5859\n",
            "Iteration:  3 \tNLL =  87995.1719\n",
            "Iteration:  4 \tNLL =  87652.1719\n",
            "Iteration:  5 \tNLL =  87625.7812\n",
            "Iteration:  6 \tNLL =  87784.6719\n",
            "Iteration:  7 \tNLL =  87958.9922\n",
            "Iteration:  8 \tNLL =  88039.6562\n",
            "Iteration:  9 \tNLL =  88013.8\n",
            "Iteration:  10 \tNLL =  87919.8906\n",
            "Iteration:  11 \tNLL =  87802.9844\n",
            "Iteration:  12 \tNLL =  87697.9531\n",
            "Iteration:  13 \tNLL =  87627.2188\n",
            "Iteration:  14 \tNLL =  87600.4375\n",
            "Iteration:  15 \tNLL =  87613.8281\n",
            "Iteration:  16 \tNLL =  87651.4375\n",
            "Iteration:  17 \tNLL =  87690.8438\n",
            "Iteration:  18 \tNLL =  87712.6875\n",
            "Iteration:  19 \tNLL =  87708.7812\n",
            "Iteration:  20 \tNLL =  87683.3281\n",
            "Iteration:  21 \tNLL =  87647.9688\n",
            "Iteration:  22 \tNLL =  87616.1406\n",
            "Iteration:  23 \tNLL =  87597.8281\n",
            "Iteration:  24 \tNLL =  87596.3438\n",
            "Iteration:  25 \tNLL =  87607.4062\n",
            "Iteration:  26 \tNLL =  87621.7188\n",
            "Iteration:  27 \tNLL =  87630.4375\n",
            "Iteration:  28 \tNLL =  87629.7344\n",
            "Iteration:  29 \tNLL =  87621.2344\n",
            "Iteration:  30 \tNLL =  87609.4297\n",
            "Iteration:  31 \tNLL =  87599.0078\n",
            "Iteration:  32 \tNLL =  87592.8672\n",
            "Iteration:  33 \tNLL =  87591.6797\n",
            "Iteration:  34 \tNLL =  87593.8906\n",
            "Iteration:  35 \tNLL =  87596.7734\n",
            "Iteration:  36 \tNLL =  87598.1172\n",
            "Iteration:  37 \tNLL =  87597.1094\n",
            "Iteration:  38 \tNLL =  87594.5938\n",
            "Iteration:  39 \tNLL =  87591.5938\n",
            "Iteration:  40 \tNLL =  87588.9219\n",
            "Iteration:  41 \tNLL =  87586.8203\n",
            "Iteration:  42 \tNLL =  87585.3281\n",
            "Iteration:  43 \tNLL =  87584.4844\n",
            "Iteration:  44 \tNLL =  87584.0938\n",
            "Iteration:  45 \tNLL =  87583.8\n",
            "Iteration:  46 \tNLL =  87583.3594\n",
            "Iteration:  47 \tNLL =  87582.7188\n",
            "Iteration:  48 \tNLL =  87581.8281\n",
            "Iteration:  49 \tNLL =  87580.4922\n",
            "Iteration:  50 \tNLL =  87578.5547\n",
            "Iteration:  51 \tNLL =  87576.1406\n",
            "Iteration:  52 \tNLL =  87573.6328\n",
            "Iteration:  53 \tNLL =  87571.3047\n",
            "Iteration:  54 \tNLL =  87568.9688\n",
            "Iteration:  55 \tNLL =  87566.1\n",
            "Iteration:  56 \tNLL =  87561.9531\n",
            "Iteration:  57 \tNLL =  87555.8281\n",
            "Iteration:  58 \tNLL =  87547.0312\n",
            "Iteration:  59 \tNLL =  87534.8281\n",
            "Iteration:  60 \tNLL =  87518.3\n",
            "Iteration:  61 \tNLL =  87495.7578\n",
            "Iteration:  62 \tNLL =  87464.4688\n",
            "Iteration:  63 \tNLL =  87420.9\n",
            "Iteration:  64 \tNLL =  87361.8594\n",
            "Iteration:  65 \tNLL =  87287.1719\n",
            "Iteration:  66 \tNLL =  87203.0781\n",
            "Iteration:  67 \tNLL =  87123.625\n",
            "Iteration:  68 \tNLL =  87065.8359\n",
            "Iteration:  69 \tNLL =  87040.6\n",
            "Iteration:  70 \tNLL =  87046.3594\n",
            "Iteration:  71 \tNLL =  87069.5938\n",
            "Iteration:  72 \tNLL =  87091.875\n",
            "Iteration:  73 \tNLL =  87099.7109\n",
            "Iteration:  74 \tNLL =  87089.1406\n",
            "Iteration:  75 \tNLL =  87064.6719\n",
            "Iteration:  76 \tNLL =  87035.2812\n",
            "Iteration:  77 \tNLL =  87010.8\n",
            "Iteration:  78 \tNLL =  86998.0312\n",
            "Iteration:  79 \tNLL =  86997.8203\n",
            "Iteration:  80 \tNLL =  87005.7812\n",
            "Iteration:  81 \tNLL =  87016.2\n",
            "Iteration:  82 \tNLL =  87023.8516\n",
            "Iteration:  83 \tNLL =  87024.6719\n",
            "Iteration:  84 \tNLL =  87018.3438\n",
            "Iteration:  85 \tNLL =  87008.7109\n",
            "Iteration:  86 \tNLL =  87000.1953\n",
            "Iteration:  87 \tNLL =  86994.4375\n",
            "Iteration:  88 \tNLL =  86990.8828\n",
            "Iteration:  89 \tNLL =  86989.25\n",
            "Iteration:  90 \tNLL =  86989.6797\n",
            "Iteration:  91 \tNLL =  86991.1094\n",
            "Iteration:  92 \tNLL =  86991.4297\n",
            "Iteration:  93 \tNLL =  86989.4531\n",
            "Iteration:  94 \tNLL =  86985.8906\n",
            "Iteration:  95 \tNLL =  86982.4766\n",
            "Iteration:  96 \tNLL =  86980.4297\n",
            "Iteration:  97 \tNLL =  86979.8203\n",
            "Iteration:  98 \tNLL =  86980.0781\n",
            "Iteration:  99 \tNLL =  86980.7344\n",
            "Iteration:  100 \tNLL =  86981.4453\n",
            "Iteration:  101 \tNLL =  86981.7656\n",
            "Iteration:  102 \tNLL =  86981.2812\n",
            "Iteration:  103 \tNLL =  86980.125\n",
            "Iteration:  104 \tNLL =  86978.9219\n",
            "Iteration:  105 \tNLL =  86978.0781\n",
            "Iteration:  106 \tNLL =  86977.5703\n",
            "Iteration:  107 \tNLL =  86977.2344\n",
            "Iteration:  108 \tNLL =  86977.0469\n",
            "Iteration:  109 \tNLL =  86976.9\n",
            "Iteration:  110 \tNLL =  86976.5938\n",
            "Iteration:  111 \tNLL =  86976.0781\n",
            "Iteration:  112 \tNLL =  86975.5781\n",
            "Iteration:  113 \tNLL =  86975.2812\n",
            "Iteration:  114 \tNLL =  86975.2656\n",
            "Iteration:  115 \tNLL =  86975.375\n",
            "Iteration:  116 \tNLL =  86975.4531\n",
            "Iteration:  117 \tNLL =  86975.4531\n",
            "Iteration:  118 \tNLL =  86975.4062\n",
            "Iteration:  119 \tNLL =  86975.3125\n",
            "Iteration:  120 \tNLL =  86975.1562\n",
            "Iteration:  121 \tNLL =  86974.9844\n",
            "Iteration:  122 \tNLL =  86974.9062\n",
            "Iteration:  123 \tNLL =  86974.9062\n",
            "Iteration:  124 \tNLL =  86974.9688\n",
            "Iteration:  125 \tNLL =  86974.9844\n",
            "Iteration:  126 \tNLL =  86974.9531\n",
            "Iteration:  127 \tNLL =  86974.8594\n",
            "Iteration:  128 \tNLL =  86974.6875\n",
            "Iteration:  129 \tNLL =  86974.5312\n",
            "Iteration:  130 \tNLL =  86974.4297\n",
            "Iteration:  131 \tNLL =  86974.4219\n",
            "Iteration:  132 \tNLL =  86974.4844\n",
            "Iteration:  133 \tNLL =  86974.5391\n",
            "Iteration:  134 \tNLL =  86974.5625\n",
            "Iteration:  135 \tNLL =  86974.5625\n",
            "Iteration:  136 \tNLL =  86974.5312\n",
            "Iteration:  137 \tNLL =  86974.4844\n",
            "Iteration:  138 \tNLL =  86974.4219\n",
            "Iteration:  139 \tNLL =  86974.3906\n",
            "Iteration:  140 \tNLL =  86974.4062\n",
            "Iteration:  141 \tNLL =  86974.4297\n",
            "Iteration:  142 \tNLL =  86974.4453\n",
            "Iteration:  143 \tNLL =  86974.4453\n",
            "Iteration:  144 \tNLL =  86974.4375\n",
            "Iteration:  145 \tNLL =  86974.4062\n",
            "Iteration:  146 \tNLL =  86974.375\n",
            "Iteration:  147 \tNLL =  86974.3594\n",
            "Iteration:  148 \tNLL =  86974.3594\n",
            "Iteration:  149 \tNLL =  86974.3594\n",
            "Iteration:  150 \tNLL =  86974.375\n",
            "Iteration:  151 \tNLL =  86974.3828\n",
            "Iteration:  152 \tNLL =  86974.375\n",
            "Iteration:  153 \tNLL =  86974.3672\n",
            "Iteration:  154 \tNLL =  86974.3594\n",
            "Iteration:  155 \tNLL =  86974.3438\n",
            "Iteration:  156 \tNLL =  86974.3516\n",
            "Iteration:  157 \tNLL =  86974.3594\n",
            "Iteration:  158 \tNLL =  86974.3516\n",
            "Iteration:  159 \tNLL =  86974.3594\n",
            "Iteration:  160 \tNLL =  86974.3594\n",
            "Iteration:  161 \tNLL =  86974.3594\n",
            "Iteration:  162 \tNLL =  86974.3438\n",
            "Iteration:  163 \tNLL =  86974.3438\n",
            "Iteration:  164 \tNLL =  86974.3438\n",
            "Iteration:  165 \tNLL =  86974.3359\n",
            "Iteration:  166 \tNLL =  86974.3438\n",
            "Iteration:  167 \tNLL =  86974.3438\n",
            "Iteration:  168 \tNLL =  86974.3438\n",
            "Iteration:  169 \tNLL =  86974.3438\n",
            "Iteration:  170 \tNLL =  86974.3438\n",
            "Iteration:  171 \tNLL =  86974.3438\n",
            "Iteration:  172 \tNLL =  86974.3516\n",
            "Iteration:  173 \tNLL =  86974.3438\n",
            "Iteration:  174 \tNLL =  86974.3359\n",
            "Iteration:  175 \tNLL =  86974.3438\n",
            "Iteration:  176 \tNLL =  86974.3438\n",
            "Iteration:  177 \tNLL =  86974.3438\n",
            "Iteration:  178 \tNLL =  86974.3438\n",
            "Iteration:  179 \tNLL =  86974.3438\n",
            "Iteration:  180 \tNLL =  86974.3359\n",
            "Iteration:  181 \tNLL =  86974.3359\n",
            "Iteration:  182 \tNLL =  86974.3438\n",
            "Iteration:  183 \tNLL =  86974.3359\n",
            "Iteration:  184 \tNLL =  86974.3359\n",
            "Iteration:  185 \tNLL =  86974.3438\n",
            "Iteration:  186 \tNLL =  86974.3359\n",
            "Iteration:  187 \tNLL =  86974.3281\n",
            "Iteration:  188 \tNLL =  86974.3359\n",
            "Iteration:  189 \tNLL =  86974.3359\n",
            "Iteration:  190 \tNLL =  86974.3359\n",
            "Iteration:  191 \tNLL =  86974.3438\n",
            "Iteration:  192 \tNLL =  86974.3438\n",
            "Iteration:  193 \tNLL =  86974.3359\n",
            "Iteration:  194 \tNLL =  86974.3438\n",
            "Iteration:  195 \tNLL =  86974.3438\n",
            "Iteration:  196 \tNLL =  86974.3359\n",
            "Iteration:  197 \tNLL =  86974.3281\n",
            "Iteration:  198 \tNLL =  86974.3359\n",
            "Iteration:  199 \tNLL =  86974.3359\n",
            "Iteration:  200 \tNLL =  86974.3438\n",
            "Iteration:  201 \tNLL =  86974.3359\n",
            "Iteration:  202 \tNLL =  86974.3438\n",
            "Iteration:  203 \tNLL =  86974.3359\n",
            "Iteration:  204 \tNLL =  86974.3359\n",
            "Iteration:  205 \tNLL =  86974.3281\n",
            "Iteration:  206 \tNLL =  86974.3438\n",
            "Iteration:  207 \tNLL =  86974.3359\n",
            "Iteration:  208 \tNLL =  86974.3438\n",
            "Iteration:  209 \tNLL =  86974.3359\n",
            "Iteration:  210 \tNLL =  86974.3359\n",
            "Iteration:  211 \tNLL =  86974.3359\n",
            "Iteration:  212 \tNLL =  86974.3359\n",
            "Iteration:  213 \tNLL =  86974.3438\n",
            "Iteration:  214 \tNLL =  86974.3438\n",
            "Iteration:  215 \tNLL =  86974.3438\n",
            "Iteration:  216 \tNLL =  86974.3281\n",
            "Iteration:  217 \tNLL =  86974.3281\n",
            "Iteration:  218 \tNLL =  86974.3438\n",
            "Iteration:  219 \tNLL =  86974.3438\n",
            "Iteration:  220 \tNLL =  86974.3438\n",
            "Iteration:  221 \tNLL =  86974.3438\n",
            "Iteration:  222 \tNLL =  86974.3281\n",
            "Iteration:  223 \tNLL =  86974.3438\n",
            "Iteration:  224 \tNLL =  86974.3281\n",
            "Iteration:  225 \tNLL =  86974.3438\n",
            "Iteration:  226 \tNLL =  86974.3359\n",
            "Iteration:  227 \tNLL =  86974.3438\n",
            "Iteration:  228 \tNLL =  86974.3438\n",
            "Iteration:  229 \tNLL =  86974.3359\n",
            "Iteration:  230 \tNLL =  86974.3359\n",
            "Iteration:  231 \tNLL =  86974.3359\n",
            "Iteration:  232 \tNLL =  86974.3438\n",
            "Iteration:  233 \tNLL =  86974.3281\n",
            "Iteration:  234 \tNLL =  86974.3359\n",
            "Iteration:  235 \tNLL =  86974.3281\n",
            "Iteration:  236 \tNLL =  86974.3281\n",
            "Iteration:  237 \tNLL =  86974.3359\n",
            "Iteration:  238 \tNLL =  86974.3438\n",
            "Iteration:  239 \tNLL =  86974.3281\n",
            "Iteration:  240 \tNLL =  86974.3359\n",
            "Iteration:  241 \tNLL =  86974.3438\n",
            "Iteration:  242 \tNLL =  86974.3359\n",
            "Iteration:  243 \tNLL =  86974.3359\n",
            "Iteration:  244 \tNLL =  86974.3281\n",
            "Iteration:  245 \tNLL =  86974.3359\n",
            "Iteration:  246 \tNLL =  86974.3281\n",
            "Iteration:  247 \tNLL =  86974.3281\n",
            "Iteration:  248 \tNLL =  86974.3281\n",
            "Iteration:  249 \tNLL =  86974.3438\n",
            "Iteration:  250 \tNLL =  86974.3438\n"
          ]
        }
      ],
      "source": [
        "transition_distribution_init = tf.constant([\n",
        "    [0.5, 0.5],\n",
        "    [0.5, 0.5]])\n",
        "\n",
        "emission_params_init = tf.constant([\n",
        "    [0.2, 0.1, 0.2, 0.3, 0.1, 0.1],\n",
        "    [0.1, 0.1, 0.1, 0.2, 0.3, 0.2]])\n",
        "\n",
        "initial_distribution_init = tf.constant([\n",
        "    [0.5],\n",
        "    [0.5]])\n",
        "\n",
        "inference_module = HMM_Inference_TFM(transition_distribution_init, emission_distribution, emission_params_init, initial_distribution_init, HMM_Categorical_Layer())\n",
        "optimizer=tf.keras.optimizers.Adam(learning_rate=0.1)\n",
        "num_iter = 250\n",
        "HMM_loss = HMM_SGD(inference_module, HMM_Negative_Log_Likelihood, observations, optimizer, iterations=num_iter)"
      ]
    },
    {
      "cell_type": "markdown",
      "metadata": {
        "id": "nWKQUsRuS3LJ"
      },
      "source": [
        "### Results"
      ]
    },
    {
      "cell_type": "code",
      "execution_count": 58,
      "metadata": {
        "id": "z9tYFf4bb9BF",
        "colab": {
          "base_uri": "https://localhost:8080/",
          "height": 738
        },
        "outputId": "ac829889-d098-47ea-dd9a-6442267c21fb"
      },
      "outputs": [
        {
          "output_type": "stream",
          "name": "stdout",
          "text": [
            "True parameters\n",
            "[[0.16666667 0.16666667 0.16666667 0.16666667 0.16666667 0.16666667]\n",
            " [0.1        0.1        0.1        0.1        0.1        0.5       ]]\n",
            "\n",
            "[[0.5]\n",
            " [0.5]]\n",
            "\n",
            "[[0.95 0.05]\n",
            " [0.1  0.9 ]] \n",
            "\n",
            "Trained parameters\n",
            "[[0.1  0.1  0.1  0.1  0.1  0.5 ]\n",
            " [0.16 0.16 0.17 0.17 0.17 0.17]] \n",
            "\n",
            "[[0.67]\n",
            " [0.33]] \n",
            "\n",
            "[[0.9  0.1 ]\n",
            " [0.05 0.95]] \n",
            "\n"
          ]
        },
        {
          "output_type": "display_data",
          "data": {
            "text/plain": [
              "<Figure size 1120x400 with 1 Axes>"
            ],
            "image/png": "[encoded data removed]"
          },
          "metadata": {
            "image/png": {
              "width": 933,
              "height": 374
            }
          }
        }
      ],
      "source": [
        "tf.print('True parameters\\n{}\\n\\n{}\\n\\n{}'.format(emission_params, initial_distribution, transition_distribution), '\\n\\nTrained parameters')\n",
        "SGD_trained = [tf.nn.softmax(inference_module.trainable_variables[0]).numpy(),\n",
        "              tf.nn.softmax(inference_module.trainable_variables[1], axis=0).numpy(),\n",
        "              tf.nn.softmax(inference_module.trainable_variables[2]).numpy()]\n",
        "\n",
        "for params in SGD_trained:\n",
        "  print(np.round(params, 2), '\\n')\n",
        "\n",
        "plt.figure(figsize=(14, 5))\n",
        "plt.plot(HMM_loss, color=\"teal\", linewidth=2)\n",
        "plt.title(\"SGD Negative Log Likelihood\"); plt.xlabel('Iteration'); plt.show()"
      ]
    },
    {
      "cell_type": "markdown",
      "source": [
        "# Example 2. Gaussian HMM Parameter Learning (under construction)"
      ],
      "metadata": {
        "id": "uU71dI_PwrQ4"
      }
    },
    {
      "cell_type": "code",
      "source": [
        "num_batches = 5\n",
        "num_steps = 5000\n",
        "num_states = 3\n",
        "initial_distribution = tf.fill([num_states, 1], 1/num_states)\n",
        "\n",
        "transition_distribution = tf.constant([\n",
        "    [0.90, 0.05, 0.025], \n",
        "    [0.05, 0.925, 0.025],\n",
        "    [0.025, 0.025, 0.95]])\n",
        "\n",
        "emission_params = tf.constant([\n",
        "    [1.0, 3.0, 5.0],\n",
        "    [2.6, 1.2, 0.71]])\n",
        "\n",
        "emission_distribution = lambda arg: tfd.Normal(loc=arg[0], scale=arg[1])\n",
        "\n",
        "true_states, observations = HMM_Generator(transition_distribution, emission_distribution, emission_params, initial_distribution, num_steps, num_batches)\n",
        "print('Generated {} batches of {}-step Casino HMM samples'.format(num_batches, num_steps), '\\n')"
      ],
      "metadata": {
        "id": "HYqAU6RHw0cj"
      },
      "execution_count": null,
      "outputs": []
    },
    {
      "cell_type": "code",
      "source": [
        "@tf.function\n",
        "def SGD_step(inference_module, inference_loss, observations):\n",
        "  with tf.GradientTape() as tape:\n",
        "    loss = inference_loss(inference_module, observations)\n",
        "  grads = tape.gradient(loss, inference_module.trainable_variables)\n",
        "  return grads, loss\n",
        "\n",
        "def HMM_Negative_Log_Likelihood(inference_module, observations):\n",
        "  for i, params in enumerate(inference_module.trainable_variables):\n",
        "    if i == 0:\n",
        "      tf.print(params)\n",
        "      continue\n",
        "    if i == 1:\n",
        "      tf.print(tf.nn.softmax(params, 0), '\\n')\n",
        "      continue\n",
        "    tf.print(tf.nn.softmax(params), '\\n')\n",
        "  return -tf.reduce_sum(tf.math.log(inference_module(observations)))\n",
        "\n",
        "def HMM_SGD(inference_module, inference_loss, observations, optimizer, iterations=1):\n",
        "  loss = []\n",
        "  for i in tf.range(iterations):\n",
        "    grads, HMM_NLL = SGD_step(inference_module, inference_loss, observations)\n",
        "    optimizer.apply_gradients(zip(grads, inference_module.trainable_variables))\n",
        "    loss.append(HMM_NLL)\n",
        "    tf.print(\"Iteration: \", i + 1, '\\tNLL = ', HMM_NLL)\n",
        "  return loss"
      ],
      "metadata": {
        "id": "70aGjJkyyd-W"
      },
      "execution_count": null,
      "outputs": []
    },
    {
      "cell_type": "code",
      "source": [
        "class HMM_Gaussian_Layer(tf.keras.layers.Layer):\n",
        "    def __init__(self):\n",
        "      super().__init__()\n",
        "\n",
        "    def call(self, transition_distribution, emission_distribution, emission_params, initial_distribution):\n",
        "      transition_distribution = tf.nn.softmax(transition_distribution)\n",
        "      emission_mean = emission_params[0]\n",
        "      emission_cov = emission_params[1]*emission_params[1]\n",
        "      emission_model = emission_distribution([emission_mean, emission_cov])\n",
        "      local_evidence = tf.exp(emission_model.log_prob(observations))[..., tf.newaxis]\n",
        "      initial_distribution = tf.nn.softmax(initial_distribution, axis=0)\n",
        "      return transition_distribution, initial_distribution, local_evidence"
      ],
      "metadata": {
        "id": "VDlAw1_L2U2Y"
      },
      "execution_count": null,
      "outputs": []
    },
    {
      "cell_type": "code",
      "source": [
        "class HMM_Inference_TFM(tf.Module):\n",
        "  def __init__(self, transition_distribution, emission_distribution, emission_params, initial_distribution, **kwargs):\n",
        "    super().__init__(**kwargs)\n",
        "    self.transition_distribution = tf.Variable(transition_distribution, dtype=tf.float32, name='transition_matrix')\n",
        "    self.emission_params = tf.Variable(emission_params, dtype=tf.float32, name='emission_params')\n",
        "    self.initial_distribution = tf.Variable(initial_distribution, dtype=tf.float32, name='initial_distribution')\n",
        "    self.emission_distribution = emission_distribution\n",
        "\n",
        "  def __call__(self, observations):\n",
        "    emission_model = self.emission_distribution(self.emission_params)\n",
        "    local_evidence = tf.exp(emission_model.log_prob(observations))[..., tf.newaxis]\n",
        "    return self.Forward(self.transition_distribution, self.initial_distribution, local_evidence)\n",
        "\n",
        "  def normalizing_constant(self, x):\n",
        "    return tf.reduce_sum(x, -2, keepdims=True)\n",
        "\n",
        "  def Forward(self, transition_distribution, initial_distribution, local_evidence):\n",
        "    filtered_Z = tf.TensorArray(local_evidence.dtype, size=0, dynamic_size=True)\n",
        "    filtered_t = tf.broadcast_to(tf.nn.softmax(initial_distribution, axis=0), local_evidence[:, 0].shape)\n",
        "    filtered_Z_t = self.normalizing_constant(filtered_t)\n",
        "    filtered_t = filtered_t / filtered_Z_t\n",
        "    for i in tf.range(num_steps):\n",
        "      filtered_t = local_evidence[:, i] * (tf.transpose(tf.nn.softmax(transition_distribution)) @ filtered_t)\n",
        "      filtered_Z_t = self.normalizing_constant(filtered_t)\n",
        "      filtered_t = filtered_t / filtered_Z_t\n",
        "      filtered_Z = filtered_Z.write(i, filtered_Z_t)\n",
        "    return tf.transpose(filtered_Z.stack(), [1, 0, 2, 3])\n",
        "\n",
        "inference_module = HMM_Inference_TFM(transition_distribution_init, emission_distribution, emission_params_init, initial_distribution_init)\n",
        "optimizer=tf.keras.optimizers.Adam(learning_rate=0.1)\n",
        "num_iter = 500\n",
        "HMM_loss = HMM_SGD(inference_module, HMM_Negative_Log_Likelihood, observations, optimizer, iterations=num_iter)"
      ],
      "metadata": {
        "id": "I7EeUkqbw9vy"
      },
      "execution_count": null,
      "outputs": []
    },
    {
      "cell_type": "code",
      "source": [
        "transition_distribution_init = tf.constant([\n",
        "    [0.4, 0.3, 0.3], \n",
        "    [0.4, 0.3, 0.3],\n",
        "    [0.3, 0.4, 0.3]])\n",
        "\n",
        "emission_params_init = tf.constant([\n",
        "    [0.0, 1.0, 1.0],\n",
        "    [1.0, 1.0, 1.0]])\n",
        "\n",
        "initial_distribution_init = tf.constant([\n",
        "    [0.3],\n",
        "    [0.4],\n",
        "    [0.3]])\n",
        "\n",
        "inference_module = HMM_Inference_TFM(transition_distribution, emission_distribution, emission_params, initial_distribution_init)\n",
        "optimizer=tf.keras.optimizers.Adam(learning_rate=0.1)\n",
        "num_iter = 0\n",
        "HMM_loss = HMM_SGD(inference_module, HMM_Negative_Log_Likelihood, observations, optimizer, iterations=num_iter)"
      ],
      "metadata": {
        "id": "pvmeP_oZx8IN"
      },
      "execution_count": null,
      "outputs": []
    }
  ],
  "metadata": {
    "colab": {
      "provenance": [],
      "collapsed_sections": [
        "9KZyA4RYRRTj",
        "sXtfQVwGRbWK",
        "8PuN74Q7SXHr",
        "GZ01u7BxSfL8"
      ],
      "authorship_tag": "ABX9TyP1Cfn+P1K6fWKbaxUNU/op",
      "include_colab_link": true
    },
    "gpuClass": "standard",
    "kernelspec": {
      "display_name": "Python 3",
      "name": "python3"
    },
    "language_info": {
      "name": "python"
    }
  },
  "nbformat": 4,
  "nbformat_minor": 0
}