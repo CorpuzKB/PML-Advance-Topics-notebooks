{
  "nbformat": 4,
  "nbformat_minor": 0,
  "metadata": {
    "colab": {
      "provenance": [],
      "authorship_tag": "ABX9TyPvmAOx4JBdAT8C7bGGNnBV",
      "include_colab_link": true
    },
    "kernelspec": {
      "name": "python3",
      "display_name": "Python 3"
    },
    "language_info": {
      "name": "python"
    }
  },
  "cells": [
    {
      "cell_type": "markdown",
      "metadata": {
        "id": "view-in-github",
        "colab_type": "text"
      },
      "source": [
        "<a href=\"https://colab.research.google.com/github/CorpuzKB/PML-Advance-Topics-notebooks/blob/main/Baum_Welch_HMM__TensorFlow.ipynb\" target=\"_parent\"><img src=\"https://colab.research.google.com/assets/colab-badge.svg\" alt=\"Open In Colab\"/></a>"
      ]
    },
    {
      "cell_type": "code",
      "execution_count": null,
      "metadata": {
        "id": "CF7iqXSsE7rs"
      },
      "outputs": [],
      "source": [
        "!pip install tqdm -q\n",
        "\n",
        "import numpy as np\n",
        "import tensorflow as tf\n",
        "import tensorflow_probability as tfp\n",
        "import matplotlib.pyplot as plt\n",
        "import seaborn as sns\n",
        "from IPython.display import set_matplotlib_formats\n",
        "from tqdm import tqdm\n",
        "\n",
        "tfd = tfp.distributions\n",
        "sns.set(rc={\"figure.dpi\":80, 'savefig.dpi':300})\n",
        "sns.set_context('notebook')\n",
        "sns.set_style(\"ticks\")\n",
        "set_matplotlib_formats('retina')"
      ]
    },
    {
      "cell_type": "code",
      "source": [
        "def Baum-Welch():\n",
        "  return"
      ],
      "metadata": {
        "id": "2cUJAGjCFAh0"
      },
      "execution_count": null,
      "outputs": []
    },
    {
      "cell_type": "markdown",
      "source": [
        "## Forward-Backwards\n",
        "(See [HMM Inference](https://colab.research.google.com/drive/12JfQRmJOgHXOE1j-gXjfSDHlODpp3RVE?usp=sharing))"
      ],
      "metadata": {
        "id": "FnDH-2BFE3J4"
      }
    },
    {
      "cell_type": "code",
      "source": [
        "def normalize(x):\n",
        "  return x/(tf.reduce_sum(x))\n",
        "\n",
        "def localEvidence(λ, y):\n",
        "  return tf.stack([λ[:, y_t, tf.newaxis] for y_t in y])\n",
        "\n",
        "def Forward(A, a_t, λ, steps):\n",
        "  a = []\n",
        "  for i in range(steps):\n",
        "    a_t = λ[i] * (tf.transpose(A) @ a_t)\n",
        "    a_t = normalize(a_t)\n",
        "    a.append(a_t)\n",
        "  return tf.stack(a)\n",
        "\n",
        "def Backward(A, a, λ, steps, num_states):\n",
        "  β_t = tf.fill([num_states, 1], 1.)\n",
        "  β = [β_t]; g = []\n",
        "\n",
        "  for i in tqdm(range(steps - 1, 0, -1)):\n",
        "    g_t = a[i] * β_t\n",
        "    g_t = normalize(g_t)\n",
        "    β_t = A @ (λ[i] * β_t)\n",
        "    β_t = normalize(β_t)\n",
        "    β.append(β_t)\n",
        "    g.append(g_t)\n",
        "  return tf.reverse(tf.stack(β), [0]), tf.reverse(tf.stack(g), [0])"
      ],
      "metadata": {
        "id": "emOmsTP9EFcV"
      },
      "execution_count": null,
      "outputs": []
    },
    {
      "cell_type": "markdown",
      "source": [
        "## Learning the State Transition $ A$ and Observation $B$ Matrices from the Casino HMM"
      ],
      "metadata": {
        "id": "zsTx8VvrEJ8I"
      }
    }
  ]
}