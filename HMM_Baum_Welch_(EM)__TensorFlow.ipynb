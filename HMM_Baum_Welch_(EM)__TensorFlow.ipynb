{
  "nbformat": 4,
  "nbformat_minor": 0,
  "metadata": {
    "colab": {
      "provenance": [],
      "collapsed_sections": [
        "WeYoyM2s51J-"
      ],
      "authorship_tag": "ABX9TyMU8LMWERCTU5DTJRev+U9D",
      "include_colab_link": true
    },
    "kernelspec": {
      "name": "python3",
      "display_name": "Python 3"
    },
    "language_info": {
      "name": "python"
    },
    "gpuClass": "standard"
  },
  "cells": [
    {
      "cell_type": "markdown",
      "metadata": {
        "id": "view-in-github",
        "colab_type": "text"
      },
      "source": [
        "<a href=\"https://colab.research.google.com/github/CorpuzKB/PML-Advance-Topics-notebooks/blob/main/HMM_Baum_Welch_(EM)__TensorFlow.ipynb\" target=\"_parent\"><img src=\"https://colab.research.google.com/assets/colab-badge.svg\" alt=\"Open In Colab\"/></a>"
      ]
    },
    {
      "cell_type": "markdown",
      "source": [
        "# Baum-Welch (EM) Algorithm for HMM\n",
        "\n",
        "The **EM_HMM_Categorical** class applies the Baum-Welch (EM) algorithm for parameter learning of HMMs with a discrete likelihood for the emission model. Implemented from the book, [Probabilistic Machine Learning: Advanced Topics (Murphy K., 2023)](https://probml.github.io/pml-book/book2.html).\n",
        "\n",
        "Given the observations $y_{1},\\cdots, y_{T}$, we aim to find:\n",
        "\\begin{align*}\n",
        "A &= \\Pr(\\mathbf z_{t}|\\mathbf z_{t-1}) \\\\\n",
        "B &= \\Pr(\\mathbf y|\\mathbf z) \\\\\n",
        "\\pi &= \\Pr(\\mathbf z_1)\n",
        "\\end{align*}"
      ],
      "metadata": {
        "id": "Q4g5KqzgG-S_"
      }
    },
    {
      "cell_type": "markdown",
      "source": [
        "Given at iteration $t-1$:\n",
        "\n",
        "1.   Parameters $\\mathbf \\theta_{t-1} = (A_{t-1}, B_{t-1}, \\pi_{t-1})$\n",
        "2.   Smoothed latent posteriors $\\gamma = \\Pr(\\mathbf z|\\mathbf y, \\theta_{t-1})\\in \\mathbb{R}^{B\\times N\\times K\\times 1}$\n",
        "3.   Two slice marginals $\\xi =\\Pr(\\mathbf z_{t-1}, \\mathbf z_{t}|\\mathbf y, \\theta_{t-1})\\in \\mathbb{R}^{B\\times N\\times K\\times K}$\n",
        "4. Observations $\\mathbf y\\in \\mathbb{R}^{B\\times N\\times 1}$\n",
        "\n",
        "\n",
        "> **E Step**\n",
        "\\begin{align*}\n",
        "\\mathop{\\mathbb{E}}[N_K^1] &= \\sum_B \\gamma\\ [:, 0, ...]\\\\\n",
        "\\mathop{\\mathbb{E}}[N_K] &= \\sum_B\\sum_N \\gamma\\ [:, 1:, ...]\\\\\n",
        "\\mathop{\\mathbb{E}}[N_{JK}] &= \\sum_B\\sum_N \\xi\\\\\n",
        "\\text{for } v\\in \\text{dim}(B)\\\\\n",
        "\\mathop{\\mathbb{E}}[M_{Kv}] &= \\sum_B\\sum_N \\gamma \\cdot \\mathbb{I}\\ [y_n=v]\n",
        "\\end{align*}\n",
        "\n",
        "Note that the summation is done by matrices/vectors of each respective batch.\n",
        "\n",
        ">**M step** \n",
        ">\n",
        ">Update $\\mathbf \\theta_{t-1} = (A_{t-1}, B_{t-1}, \\pi_{t-1})$ where:\n",
        "\\begin{align*}\n",
        "A_t &= \\text{normalize}(\\mathop{\\mathbb{E}}[N_{JK}])\\\\\n",
        "B_t &= \\text{normalize}(\\mathop{\\mathbb{E}}[M_{KV}])\\\\\n",
        "\\pi_t &= \\text{normalize}(\\mathop{\\mathbb{E}}[N_K^1])\\\\\n",
        "\\end{align*}\n",
        "where $\\text{normalize}()$ corresponds to division by their respective number of occurences, times, etc. that will make $\\theta_{t}$ valid."
      ],
      "metadata": {
        "id": "nhQ7O3ZXnj4n"
      }
    },
    {
      "cell_type": "code",
      "execution_count": 1,
      "metadata": {
        "id": "CF7iqXSsE7rs"
      },
      "outputs": [],
      "source": [
        "import numpy as np\n",
        "import tensorflow as tf\n",
        "import tensorflow_probability as tfp\n",
        "import matplotlib.pyplot as plt\n",
        "import seaborn as sns\n",
        "from IPython.display import set_matplotlib_formats\n",
        "\n",
        "tfd = tfp.distributions\n",
        "sns.set(rc={\"figure.dpi\":80, 'savefig.dpi':300})\n",
        "sns.set_context('notebook')\n",
        "sns.set_style(\"ticks\")\n",
        "set_matplotlib_formats('retina')"
      ]
    },
    {
      "cell_type": "markdown",
      "source": [
        "## Baum-Welch (EM)"
      ],
      "metadata": {
        "id": "WeYoyM2s51J-"
      }
    },
    {
      "cell_type": "code",
      "source": [
        "class EM_HMM_Categorical:\n",
        "  def __init__(self, HMM_Inference, A_shape, B_shape, π_shape, A=None, B=None, π=None):\n",
        "    self.batch_dims = observations.shape[0]\n",
        "    init_distrib = tfp.distributions.Beta(2, 2)\n",
        "    self.A_t = self.normalize(init_distrib.sample([*A_shape]), -1) if tf.is_tensor(A) else A\n",
        "    self.B_t = self.normalize(init_distrib.sample([*B_shape]), -1) if tf.is_tensor(B) else B\n",
        "    self.π_t = self.normalize(init_distrib.sample([*π_shape]), -2) if tf.is_tensor(π) else B\n",
        "    self.HMM_Inference = HMM_Inference\n",
        "    self.B_dims = B_shape[1]\n",
        "    self.iter = iter\n",
        "    self.parameters = {\n",
        "        \"A\": self.A_t,\n",
        "        \"B\": self.B_t,\n",
        "        \"π\": self.π_t,\n",
        "        \"Q\": tf.constant([0.0])\n",
        "    }\n",
        "\n",
        "  def normalize(self, x, dim):\n",
        "    return x / tf.reduce_sum(x, dim, keepdims=True)\n",
        "\n",
        "  def iter_print(self, curr_iter, LL_t):\n",
        "    #tf.print('\\nIteration {}:\\n A:\\n{}\\n\\n B:\\n{}\\n\\n π:\\n{}'.format(curr_iter, *self.parameters.values()))\n",
        "    tf.print('Iteration {}:\\tNLL = {}'.format(curr_iter, LL_t))\n",
        "\n",
        "  def expeted_CDLL(self, A_t, B_t, γ_t, π_t, local_evidence, E_N1, E_NJK):\n",
        "    Q_1 = tf.reduce_sum(E_N1 * tf.math.log(π_t))\n",
        "    Q_2 = tf.reduce_sum(E_NJK * tf.math.log(A_t))\n",
        "    Q_3 = tf.reduce_sum(γ_t * tf.math.log(local_evidence))\n",
        "    return Q_1 + Q_2 + Q_3\n",
        "\n",
        "  def E_step(self, observations, A_t, B_t, π_t):\n",
        "    HMM_t = self.HMM_Inference(A_t, B_t, π_t, observations)\n",
        "    a_t, a_Z = HMM_t.Forward()\n",
        "    γ_t, β_t = HMM_t.Backward(a_t, a_Z)\n",
        "    ξ_t = HMM_t.TwoSlice_Marginals(a_t, β_t)\n",
        "\n",
        "    for v in range(self.B_dims):\n",
        "      indices = tf.where(observations == v)\n",
        "      E_Mkv = tf.reduce_sum(tf.gather_nd(γ_t, indices), 0)[tf.newaxis, ...]\n",
        "      if v == 0:\n",
        "        E_MKV = E_Mkv\n",
        "      else:\n",
        "        E_MKV = tf.concat([E_MKV, E_Mkv], 0)\n",
        "    E_N1 = tf.reduce_sum(γ_t[:, 0], 0)\n",
        "    E_NK = tf.reduce_sum(tf.reduce_sum(γ_t[:, 1:], 1), 0)\n",
        "    E_NJK = tf.reduce_sum(tf.reduce_sum(ξ_t, 1), 0)\n",
        "    Q_t = self.expeted_CDLL(A_t, B_t, γ_t, π_t, HMM_t.local_evidence, E_N1, E_NJK)\n",
        "    return E_N1, E_NK, E_NJK, E_MKV, Q_t\n",
        "  \n",
        "  def M_step(self, E_N1, E_NK, E_NJK, E_MKV):\n",
        "    A_t = E_NJK / tf.reduce_sum(E_NJK, -1, keepdims=True)\n",
        "    B_t = tf.transpose(tf.squeeze(E_MKV / E_NK))\n",
        "    π_t = E_N1 / self.batch_dims\n",
        "    return A_t, B_t, π_t\n",
        "\n",
        "  def __call__(self, observations, iter=1):\n",
        "    [A_t, B_t, π_t, Q] = self.parameters.values()\n",
        "    for i in range(iter):\n",
        "      E_N1, E_NK, E_NJK, E_MKV, Q_t = self.E_step(observations, A_t, B_t, π_t)\n",
        "      A_t, B_t, π_t = self.M_step(E_N1, E_NK, E_NJK, E_MKV)\n",
        "      Q = tf.concat([Q, Q_t[..., tf.newaxis]], 0)\n",
        "      self.parameters.update({\n",
        "        \"A\": A_t,\n",
        "        \"B\": B_t,\n",
        "        \"π\": π_t,\n",
        "      })\n",
        "      self.iter_print(i + 1, Q_t)\n",
        "    self.parameters.update({\"Q\": Q})"
      ],
      "metadata": {
        "id": "5AGVEPNPuyG5"
      },
      "execution_count": 65,
      "outputs": []
    },
    {
      "cell_type": "markdown",
      "source": [
        "## Forward-Backwards\n",
        "(See [HMM Inference](https://colab.research.google.com/drive/12JfQRmJOgHXOE1j-gXjfSDHlODpp3RVE?usp=sharing))"
      ],
      "metadata": {
        "id": "FnDH-2BFE3J4"
      }
    },
    {
      "cell_type": "code",
      "source": [
        "class HMM_Categorical_Inference:\n",
        "  def __init__(self, transition_matrix, observation_matrix, states_0, observations):\n",
        "    local_evidence = tf.gather(observation_matrix, observations, axis=1)\n",
        "    self.local_evidence = tf.transpose(local_evidence, [1, 2, 0])[..., tf.newaxis]\n",
        "    self.batch_dims = self.local_evidence.shape[0]\n",
        "    self.num_steps = self.local_evidence.shape[1]\n",
        "    self.transition_matrix = transition_matrix\n",
        "    self.states_0 = states_0\n",
        "    self.num_states = transition_matrix.shape[0]\n",
        "\n",
        "  def normalizing_constant(self, x):\n",
        "    return (tf.reduce_sum(x, -2, keepdims=True))\n",
        "\n",
        "  def Forward(self):\n",
        "    a_t = self.states_0\n",
        "    for i in range(self.num_steps):\n",
        "      a_t = self.local_evidence[:, i] * (tf.transpose(self.transition_matrix) @ a_t)\n",
        "      Z_t = self.normalizing_constant(a_t)\n",
        "      a_t = a_t / Z_t\n",
        "      if i == 0: \n",
        "        a = a_t\n",
        "        Z = Z_t\n",
        "      else: \n",
        "        a = tf.concat([a, a_t], 2)\n",
        "        Z = tf.concat([Z, Z_t], 1)\n",
        "    return tf.transpose(a, [0, 2, 1])[..., tf.newaxis], Z\n",
        "\n",
        "  def Backward(self, a, a_Z):\n",
        "    β = tf.fill([self.batch_dims, self.num_states, 1], 1.)\n",
        "    β_t = β\n",
        "    for i in range(self.num_steps - 1, -1, -1):\n",
        "      β_t = self.transition_matrix @ (self.local_evidence[:, i] * β_t)\n",
        "      β_t = β_t / a_Z[:, i][..., tf.newaxis]\n",
        "      β = tf.concat([β, β_t], 2)    \n",
        "    β = tf.reverse(β[..., :-1], [-1])\n",
        "    β = tf.transpose(β, [0, 2, 1])[..., tf.newaxis]\n",
        "    g = a * β\n",
        "    g = g / self.normalizing_constant(g)\n",
        "    return g, β\n",
        "\n",
        "  def TwoSlice_Marginals(self, a, β):\n",
        "    a = a[:, :(self.num_steps-1)]\n",
        "    β = β[:, 1:]\n",
        "    λ = self.local_evidence[:, 1:]\n",
        "    ξ = self.transition_matrix * (a @ tf.transpose(λ * β, [0, 1, 3, 2]) )\n",
        "    K = tf.reduce_sum(tf.reduce_sum(ξ, -1), -1, keepdims=True)\n",
        "    ξ = ξ / tf.broadcast_to(K[..., tf.newaxis], ξ.shape)\n",
        "    return ξ"
      ],
      "metadata": {
        "id": "kN7zG9kPfZdQ"
      },
      "execution_count": 14,
      "outputs": []
    },
    {
      "cell_type": "markdown",
      "source": [
        "## Casino HMM Parameter Learning"
      ],
      "metadata": {
        "id": "baXfbytY551c"
      }
    },
    {
      "cell_type": "markdown",
      "source": [
        "### Set the ground-truth parameters $(A_g, B_g, \\pi_g)$"
      ],
      "metadata": {
        "id": "xKxS0uMHPr38"
      }
    },
    {
      "cell_type": "code",
      "source": [
        "num_states = 2\n",
        "\n",
        "π_g = tf.fill([num_states, 1], 1/num_states)\n",
        "\n",
        "A_g = tf.constant([\n",
        "    [0.95, 0.05], \n",
        "    [0.1, 0.9]\n",
        "])\n",
        "\n",
        "B_g = tf.stack([\n",
        "    tf.squeeze(tf.constant(tf.fill([1, 6], 1/6))),\n",
        "    tf.constant([*[1/10 for _ in range(5)], 5/10])\n",
        "    ])\n",
        "\n",
        "fig, axes = plt.subplots(1, 2, figsize=(10, 5))\n",
        "sns.heatmap(A_g, annot=True, linewidth=.5, ax=axes[0], cbar=False)\n",
        "sns.heatmap(B_g, annot=True, linewidth=.5, ax=axes[1], cbar=False)\n",
        "axes[0].set(xlabel='$z_{t}$', ylabel='$\\Pr(z_{t}|z_{t-1})$', title='Transition Matrix')\n",
        "axes[1].set(xlabel='$\\Pr(y|z)$', ylabel='$z$', title='Observation Distribution'); plt.show()"
      ],
      "metadata": {
        "colab": {
          "base_uri": "https://localhost:8080/",
          "height": 394
        },
        "id": "UVVKehEpPHwy",
        "outputId": "1db37d69-05a4-414e-c403-53fa5a7bae65"
      },
      "execution_count": 4,
      "outputs": [
        {
          "output_type": "display_data",
          "data": {
            "text/plain": [
              "<Figure size 800x400 with 2 Axes>"
            ],
            "image/png": "[encoded data removed]"
          },
          "metadata": {
            "image/png": {
              "width": 678,
              "height": 377
            }
          }
        }
      ]
    },
    {
      "cell_type": "markdown",
      "source": [
        "### Generate $N$ bacthes of Casino HMM observations"
      ],
      "metadata": {
        "id": "xWV5ZmJfPI_5"
      }
    },
    {
      "cell_type": "code",
      "source": [
        "def CasinoHMM(A, B, π, steps, batch_dims=1):\n",
        "  state_t = tfd.Categorical(probs=tf.squeeze(π)).sample([batch_dims, 1])\n",
        "  transition_distribution = tfd.Categorical(probs=A).sample([batch_dims, steps])\n",
        "  observation_distribution = tfd.Categorical(probs=B).sample([batch_dims, steps])\n",
        "  for i in range(steps):\n",
        "    state_t = tf.gather_nd(transition_distribution[:, i], state_t, 1)[:, tf.newaxis]\n",
        "    obs_t = tf.gather_nd(observation_distribution[:, i], state_t, 1)[:, tf.newaxis]\n",
        "    if i == 0: \n",
        "      state = state_t\n",
        "      obs = obs_t\n",
        "    else: \n",
        "      state = tf.concat([state, state_t], 1)\n",
        "      obs = tf.concat([obs, obs_t], 1)\n",
        "  return state, obs"
      ],
      "metadata": {
        "id": "8sCu1ouZG3jC"
      },
      "execution_count": 5,
      "outputs": []
    },
    {
      "cell_type": "code",
      "source": [
        "num_batches = 50\n",
        "num_steps = 5000\n",
        "true_states, observations = CasinoHMM(A_g, B_g, π_g, num_steps, num_batches)\n",
        "print('Generated {} batches of {}-step Casino HMM samples'.format(num_batches, num_steps), '\\n')"
      ],
      "metadata": {
        "colab": {
          "base_uri": "https://localhost:8080/"
        },
        "id": "MiUIdfS3QMxU",
        "outputId": "5cf818d5-a4d3-4d46-a744-0d5871dc4ab0"
      },
      "execution_count": 68,
      "outputs": [
        {
          "output_type": "stream",
          "name": "stdout",
          "text": [
            "Generated 50 batches of 5000-step Casino HMM samples \n",
            "\n"
          ]
        }
      ]
    },
    {
      "cell_type": "code",
      "source": [
        "A_0 = tf.constant([\n",
        "    [0.5, 0.5],\n",
        "    [0.5, 0.5]\n",
        "])\n",
        "\n",
        "B_0 = tf.constant([\n",
        "    [0.2, 0.3, 0.1, 0.1, 0.2, 0.2],\n",
        "    [0.1, 0.05, 0.05, 0.05, 0.05, 0.7]\n",
        "])\n",
        "\n",
        "π_0 = tf.constant([\n",
        "    [0.5],\n",
        "    [0.5]\n",
        "])\n",
        "\n",
        "HMM_fit = EM_HMM_Categorical(HMM_Categorical_Inference, A_shape=[2,2], B_shape=[2,6], π_shape=[2, 1], A=A_0, B=B_0, π=π_0)\n",
        "HMM_fit(observations, iter=300)"
      ],
      "metadata": {
        "colab": {
          "base_uri": "https://localhost:8080/"
        },
        "id": "ucnPyx7KjR-x",
        "outputId": "a1c23d1f-dbf9-4ed6-ae63-a53b1efd2741"
      },
      "execution_count": null,
      "outputs": [
        {
          "output_type": "stream",
          "name": "stdout",
          "text": [
            "Iteration 1:\tNLL = -594047.0\n",
            "Iteration 2:\tNLL = -565058.9375\n",
            "Iteration 3:\tNLL = -565067.6875\n",
            "Iteration 4:\tNLL = -565077.125\n",
            "Iteration 5:\tNLL = -565080.9375\n",
            "Iteration 6:\tNLL = -565071.375\n",
            "Iteration 7:\tNLL = -565088.8125\n",
            "Iteration 8:\tNLL = -565084.625\n"
          ]
        }
      ]
    },
    {
      "cell_type": "code",
      "source": [
        "print(A_g, B_g, π_g, '\\n\\n\\n')\n",
        "print(HMM_fit.parameters)\n",
        "LL = - HMM_fit.parameters.get('Q') / num_batches\n",
        "plt.plot(LL[1:])"
      ],
      "metadata": {
        "id": "oAUK-XWlEi4Z"
      },
      "execution_count": null,
      "outputs": []
    }
  ]
}